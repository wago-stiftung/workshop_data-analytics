{
 "cells": [
  {
   "attachments": {},
   "cell_type": "markdown",
   "metadata": {},
   "source": [
    "# Visualize and Analyze the PV capacities in Minden\n",
    "\n",
    "requires `renewable_power_plants_DE.csv` from [Open Power System Data](https://data.open-power-system-data.org/renewable_power_plants/2020-08-25/renewable_power_plants_DE.csv) <br>\n",
    "and `pv_plants_minden.csv` from [Markstammdatenregister](https://www.marktstammdatenregister.de/MaStR/Einheit/Einheiten/ErweiterteOeffentlicheEinheitenuebersicht) <br>\n",
    "in the `/data/` folder "
   ]
  },
  {
   "attachments": {},
   "cell_type": "markdown",
   "metadata": {},
   "source": [
    "## Imports"
   ]
  },
  {
   "cell_type": "code",
   "execution_count": null,
   "metadata": {},
   "outputs": [],
   "source": [
    "import atlite\n",
    "import pandas as pd\n",
    "import geopandas as gpd\n",
    "import matplotlib.pyplot as plt\n",
    "import plotly.graph_objects as go"
   ]
  },
  {
   "attachments": {},
   "cell_type": "markdown",
   "metadata": {},
   "source": [
    "## Load data"
   ]
  },
  {
   "cell_type": "code",
   "execution_count": null,
   "metadata": {},
   "outputs": [],
   "source": [
    "# load csv file into pandas DataFrame\n",
    "df_renewables = pd.read_csv(\"../data/renewable_power_plants_DE.csv\", sep=\",\", decimal=\".\", header=0)\n",
    "df_renewables"
   ]
  },
  {
   "cell_type": "code",
   "execution_count": null,
   "metadata": {},
   "outputs": [],
   "source": [
    "df_renewables.columns"
   ]
  },
  {
   "attachments": {},
   "cell_type": "markdown",
   "metadata": {},
   "source": [
    "## Visualize PV capacities"
   ]
  },
  {
   "cell_type": "code",
   "execution_count": null,
   "metadata": {},
   "outputs": [],
   "source": [
    "# filter for solar renewables\n",
    "df_pv = df_renewables[df_renewables[\"energy_source_level_2\"] == \"Solar\"]"
   ]
  },
  {
   "cell_type": "code",
   "execution_count": null,
   "metadata": {},
   "outputs": [],
   "source": [
    "map_germany = gpd.read_file(\"../data/DEU_adm1.shp\")\n",
    "map_germany.index = ([\"Baden-Würtemberg\", \"Bayern\", \"Berlin\", \"Brandenburg\", \"Bremen\", \"Hamburg\", \"Hessen\", \"Mecklenburg-Vorpommern\", \"Niedersachsen\", \"Nordrhein-Westfalen\", \"Rheinland-Pfalz\", \"Saarland\", \"Sachsen-Anhalt\", \"Sachsen\", \"Schleswig-Holstein\", \"Thüringen\"])\n",
    "map_germany.plot()"
   ]
  },
  {
   "cell_type": "code",
   "execution_count": null,
   "metadata": {},
   "outputs": [],
   "source": [
    "df_pv_sum = df_pv.groupby(\"federal_state\")[\"electrical_capacity\"].sum()\n",
    "df_pv_sum = df_pv_sum[df_pv_sum.index != \"Ausland\"]\n",
    "merged = map_germany.merge(df_pv_sum, left_index=True, right_index=True)\n",
    "merged"
   ]
  },
  {
   "cell_type": "code",
   "execution_count": null,
   "metadata": {},
   "outputs": [],
   "source": [
    "fig, ax = plt.subplots(1, figsize=(10, 6))\n",
    "merged.plot(column=\"electrical_capacity\", cmap='YlOrRd', ax=ax)\n",
    "ax.axis('off')\n",
    "ax.set_title('PV Kapazität pro Bundesland in MW - 2020')\n",
    "sm = plt.cm.ScalarMappable(cmap='YlOrRd', norm=plt.Normalize(vmin=merged[\"electrical_capacity\"].min(), vmax=merged[\"electrical_capacity\"].max()))\n",
    "sm._A = []\n",
    "cbar = fig.colorbar(sm, ax=ax)"
   ]
  },
  {
   "cell_type": "code",
   "execution_count": null,
   "metadata": {},
   "outputs": [],
   "source": [
    "# filter for all pv plants in minden\n",
    "df_pv_minden = df_pv[df_pv[\"municipality\"] == \"Minden\"]\n",
    "df_pv_minden"
   ]
  },
  {
   "cell_type": "code",
   "execution_count": null,
   "metadata": {},
   "outputs": [],
   "source": [
    "# select only the relevant columns\n",
    "df_pv_minden = df_pv_minden[[\"electrical_capacity\", \"technology\", \"data_source\", \"lon\", \"lat\", \"commissioning_date\", \"voltage_level\"]]"
   ]
  },
  {
   "cell_type": "code",
   "execution_count": null,
   "metadata": {},
   "outputs": [],
   "source": [
    "df_pv_minden"
   ]
  },
  {
   "cell_type": "code",
   "execution_count": null,
   "metadata": {},
   "outputs": [],
   "source": [
    "(df_pv_minden[\"electrical_capacity\"] * 1000).describe()"
   ]
  },
  {
   "cell_type": "code",
   "execution_count": null,
   "metadata": {},
   "outputs": [],
   "source": [
    "df_pv_minden[\"electrical_capacity\"].sum()"
   ]
  },
  {
   "attachments": {},
   "cell_type": "markdown",
   "metadata": {},
   "source": [
    "## Calculate PV feed-ins for Minden"
   ]
  },
  {
   "cell_type": "code",
   "execution_count": null,
   "metadata": {},
   "outputs": [],
   "source": [
    "df_pv_plants_minden = pd.read_csv(\"../data/pv_plants_minden.csv\", header=0, sep=\";\", decimal=\",\")"
   ]
  },
  {
   "cell_type": "code",
   "execution_count": null,
   "metadata": {},
   "outputs": [],
   "source": [
    "df_pv_plants_minden.columns"
   ]
  },
  {
   "cell_type": "code",
   "execution_count": null,
   "metadata": {},
   "outputs": [],
   "source": [
    "df_pv_plants_minden = df_pv_plants_minden[[\"Nettonennleistung der Einheit\", \"Anzahl der Solar-Module\", \"Hauptausrichtung der Solar-Module\"]]\n",
    "df_pv_plants_minden"
   ]
  },
  {
   "cell_type": "code",
   "execution_count": null,
   "metadata": {},
   "outputs": [],
   "source": [
    "azimuth_mapping = {\n",
    "        \"Nord\" : 0.0,\n",
    "        \"Nord-Ost\" : 45.0,\n",
    "        \"Ost\" : 90.0,\n",
    "        \"Süd-Ost\" : 135.0,\n",
    "        \"Süd\" : 180.0,\n",
    "        \"Süd-West\": 225.0,\n",
    "        \"West\": 270.0,\n",
    "        \"Nord-West\": 315.0\n",
    "    }"
   ]
  },
  {
   "cell_type": "code",
   "execution_count": null,
   "metadata": {},
   "outputs": [],
   "source": [
    "# add coordinates from Minden\n",
    "df_pv_plants_minden[\"x\"] = 8.9167\n",
    "df_pv_plants_minden[\"y\"] = 52.2833\n",
    "df_pv_plants_minden[\"azimuth\"] = df_pv_plants_minden[\"Hauptausrichtung der Solar-Module\"].map(azimuth_mapping)\n",
    "df_pv_plants_minden = df_pv_plants_minden.dropna()\n",
    "df_pv_plants_minden[\"capacity\"] = df_pv_plants_minden[\"Nettonennleistung der Einheit\"]\n",
    "df_pv_plants_minden = df_pv_plants_minden.drop(columns=[\"Nettonennleistung der Einheit\", \"Anzahl der Solar-Module\", \"Hauptausrichtung der Solar-Module\"])\n",
    "df_pv_plants_minden"
   ]
  },
  {
   "cell_type": "code",
   "execution_count": null,
   "metadata": {},
   "outputs": [],
   "source": [
    "# load weather data cutout\n",
    "weather_minden = atlite.Cutout(\"../data/minden-2022.nc\")"
   ]
  },
  {
   "cell_type": "code",
   "execution_count": null,
   "metadata": {},
   "outputs": [],
   "source": [
    "azimuth_mapping = {\n",
    "    \"Nord\" : 0.0,\n",
    "    \"Nord-Ost\" : 45.0,\n",
    "    \"Ost\" : 90.0,\n",
    "    \"Süd-Ost\" : 135.0,\n",
    "    \"Süd\" : 180.0,\n",
    "    \"Süd-West\": 225.0,\n",
    "    \"West\": 270.0,\n",
    "    \"Nord-West\": 315.0\n",
    "}\n",
    "azimuth_mapping_inverted = {v: k for k, v in azimuth_mapping.items()}\n",
    "\n",
    "azimuths = df_pv_plants_minden[\"azimuth\"].unique()\n",
    "feed_ins = []\n",
    "\n",
    "for az in azimuths:\n",
    "    capacities = df_pv_plants_minden[df_pv_plants_minden[\"azimuth\"] == az]\n",
    "    solar_layout = weather_minden.layout_from_capacity_list(capacities, col=\"capacity\")\n",
    "    pv_feed_in = weather_minden.pv(\n",
    "        panel=atlite.solarpanels.CSi, orientation={\"slope\": 30.0, \"azimuth\": az}, layout=solar_layout\n",
    "    )\n",
    "    pv_feed_in_series = pv_feed_in.squeeze().to_series()\n",
    "    pv_feed_in_series.name = f\"{azimuth_mapping_inverted[az]}_kW\"\n",
    "    feed_ins.append(pv_feed_in_series)\n",
    "\n",
    "# concat time series per azimuth into one dataframe\n",
    "results = pd.concat(feed_ins, axis=1)\n",
    "\n",
    "# sum all azimuth feed-ins per timestep\n",
    "results[\"SUM\"] = results.sum(axis=1)\n",
    "\n",
    "results = results.tz_localize('UTC')\n",
    "results = results.tz_convert('Europe/Berlin')\n",
    "\n",
    "results"
   ]
  },
  {
   "cell_type": "code",
   "execution_count": null,
   "metadata": {},
   "outputs": [],
   "source": [
    "fig = go.Figure()\n",
    "# visualize feed-ins per azimuth as bars\n",
    "for az in results.columns[:-1]:\n",
    "    fig.add_trace(go.Bar(x=results.index, y=results[az], name=az.replace(\"_kW\", \"\")))\n",
    "\n",
    "# show the sum as a line\n",
    "fig.add_trace(go.Scatter(x=results.index, y=results[\"SUM\"], name=\"Einspeisung Gesamt\"))\n",
    "\n",
    "fig.update_layout(barmode=\"stack\", title_text=f\"PV Einspeisungen Minden <br> 2022\", xaxis_title=\"Datum\", yaxis_title=\"Einspeisung [kW]\", legend_title=\"Ausrichtungen\")\n",
    "fig.show()"
   ]
  }
 ],
 "metadata": {
  "kernelspec": {
   "display_name": "Python 3",
   "language": "python",
   "name": "python3"
  },
  "language_info": {
   "codemirror_mode": {
    "name": "ipython",
    "version": 3
   },
   "file_extension": ".py",
   "mimetype": "text/x-python",
   "name": "python",
   "nbconvert_exporter": "python",
   "pygments_lexer": "ipython3",
   "version": "3.9.1"
  },
  "orig_nbformat": 4
 },
 "nbformat": 4,
 "nbformat_minor": 2
}
